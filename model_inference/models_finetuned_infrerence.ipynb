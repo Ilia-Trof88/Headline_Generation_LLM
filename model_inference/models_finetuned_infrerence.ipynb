{
 "cells": [
  {
   "cell_type": "markdown",
   "metadata": {},
   "source": [
    "Данная тетрадь посвящена инференсу дообученных моделей."
   ]
  },
  {
   "cell_type": "code",
   "execution_count": 1,
   "metadata": {},
   "outputs": [
    {
     "name": "stdout",
     "output_type": "stream",
     "text": [
      "🦥 Unsloth: Will patch your computer to enable 2x faster free finetuning.\n"
     ]
    },
    {
     "name": "stderr",
     "output_type": "stream",
     "text": [
      "/opt/miniconda3/envs/project_news_env/lib/python3.11/site-packages/tqdm/auto.py:21: TqdmWarning: IProgress not found. Please update jupyter and ipywidgets. See https://ipywidgets.readthedocs.io/en/stable/user_install.html\n",
      "  from .autonotebook import tqdm as notebook_tqdm\n"
     ]
    },
    {
     "name": "stdout",
     "output_type": "stream",
     "text": [
      "🦥 Unsloth Zoo will now patch everything to make training faster!\n"
     ]
    }
   ],
   "source": [
    "import os\n",
    "import gc\n",
    "\n",
    "import torch\n",
    "import pandas as pd\n",
    "\n",
    "from tqdm import tqdm\n",
    "from unsloth import FastLanguageModel"
   ]
  },
  {
   "cell_type": "code",
   "execution_count": 2,
   "metadata": {},
   "outputs": [],
   "source": [
    "gold_examples = pd.read_csv('{your_dataset_path}')\n",
    "\n",
    "gold_examples.drop(columns = ['Unnamed: 0'], inplace = True)\n",
    "\n",
    "model_instructions = \"\"\"Ты - профессиональный журналист с многолетним опытом.\n",
    "Твоя задача - сгенерировать заголовок новостной статьи, который в максимальной степени отражал бы содержание новости.\n",
    "Не поясняй свой ответ. Твой финальный ответ должен включать в себя только заголовок и ничего более.\n",
    "\"\"\"\n",
    "\n",
    "gold_examples['Инструкции модели'] = model_instructions"
   ]
  },
  {
   "cell_type": "code",
   "execution_count": 3,
   "metadata": {},
   "outputs": [],
   "source": [
    "alpaca_prompt = \"\"\"Ниже представлены следующие аспекты:\n",
    "1. Пользовательский запрос.\n",
    "2. Исходные данные - контекст\n",
    "3. Ответ - твой ответ.\n",
    "Сгенерируй ответ, который в полной мере выполняет пользовательский запрос.  \n",
    "### Пользовательский запрос:\n",
    "{}\n",
    "\n",
    "### Исходные данные:\n",
    "{}\n",
    "\n",
    "### Ответ:\n",
    "{}\"\"\""
   ]
  },
  {
   "cell_type": "code",
   "execution_count": null,
   "metadata": {},
   "outputs": [],
   "source": [
    "model, tokenizer = FastLanguageModel.from_pretrained(\n",
    "    model_name = '{your_finetuned_model_path}', #Укажите директорию, в которую сохранили LoRa-адаптеры\n",
    "    max_seq_length = 2048,\n",
    "    dtype=None,\n",
    "    load_in_4bit=True\n",
    ")"
   ]
  },
  {
   "cell_type": "code",
   "execution_count": null,
   "metadata": {},
   "outputs": [],
   "source": [
    "FastLanguageModel.for_inference(model)"
   ]
  },
  {
   "cell_type": "code",
   "execution_count": 6,
   "metadata": {},
   "outputs": [],
   "source": [
    "def model_generate(article_text: str, instructions: str) -> str:\n",
    "    '''Функция использует инициализированную модель для генерации заголовка новостной статьи\n",
    "    по тексту новостной статьи.\n",
    "    \n",
    "    Args:\n",
    "        article_text (str): Текст новостной статьи.\n",
    "        instructions (str): Инструкции модели. Используются для форматирования alpaca_prompt_template\n",
    "    \n",
    "    Returns:\n",
    "        str: сгенерированный новостной заголовок'''\n",
    "    \n",
    "    inputs = tokenizer(\n",
    "        [\n",
    "            alpaca_prompt.format(\n",
    "                instructions,\n",
    "                article_text,\n",
    "                \"\"\n",
    "            )\n",
    "        ], return_tensors = 'pt').to('cuda')\n",
    "\n",
    "    outputs = model.generate(**inputs, max_new_tokens = 100, use_cache = True, pad_token_id = tokenizer.eos_token_id)\n",
    "    result = tokenizer.batch_decode(outputs)\n",
    "    result = result[0].split('Ответ:', 1)[1].replace('\\n', '').replace('</s>', '')\n",
    "\n",
    "    return result"
   ]
  },
  {
   "cell_type": "code",
   "execution_count": 16,
   "metadata": {},
   "outputs": [
    {
     "name": "stdout",
     "output_type": "stream",
     "text": [
      "Оригинальный заголовок: \n",
      "```Налоги больше снижать не будут```\n",
      "      Сгенерированный заголовок: \n",
      "```Власти не снизят налоговую нагрузку на томский бизнес<eos>```\n",
      "\n"
     ]
    }
   ],
   "source": [
    "test_headline = gold_examples['Заголовок'][50]\n",
    "\n",
    "test_article = gold_examples['Текст новости'][50]\n",
    "\n",
    "generated_article = model_generate(article_text = test_article,\n",
    "                                   instructions = model_instructions)\n",
    "\n",
    "print(f\"Оригинальный заголовок: \\n```{test_headline}```\\n\\\n",
    "      Сгенерированный заголовок: \\n```{generated_article}```\\n\")"
   ]
  },
  {
   "cell_type": "markdown",
   "metadata": {},
   "source": [
    "Видим, что даже маленькая модель Gemma2-2b (4bit) генерирует вполне осознанные заголовки. "
   ]
  },
  {
   "cell_type": "markdown",
   "metadata": {},
   "source": [
    "Опишем функцию для автоматизации применения моделей для генерации новостных заголовков."
   ]
  },
  {
   "cell_type": "code",
   "execution_count": 4,
   "metadata": {},
   "outputs": [],
   "source": [
    "def generate_headline(instructions: str, article_text: str)->str:\n",
    "    '''Функция выполняет генерацию новостного заголовка заранее инициализированной моделью.\n",
    "    \n",
    "    Args:\n",
    "        instructions (str): Инструкции модели.\n",
    "        article_text (str): Текст новостной статьи, для которой требуется сгенерировать новостной заголовок.\n",
    "    \n",
    "    Returns:\n",
    "        str - Сгенерированный заголовок.'''\n",
    "    inputs = tokenizer(\n",
    "        [\n",
    "        alpaca_prompt.format(\n",
    "            instructions,\n",
    "            article_text,\n",
    "            \"\"\n",
    "            )\n",
    "        ], return_tensors = 'pt').to('cuda')\n",
    "\n",
    "    outputs = model.generate(**inputs, max_new_tokens = 100, use_cache = True, pad_token_id = tokenizer.eos_token_id)\n",
    "    result = tokenizer.batch_decode(outputs)\n",
    "    result = result[0].split('Ответ:', 1)[1].replace('\\n', '').replace('</s>', '').replace('<eos>', '')\n",
    "\n",
    "    return result"
   ]
  },
  {
   "cell_type": "code",
   "execution_count": 5,
   "metadata": {},
   "outputs": [],
   "source": [
    "def clear_cache(model, tokenizer) -> None:\n",
    "    '''Функция удаляет модель из активной памяти GPU'''\n",
    "    with torch.no_grad():\n",
    "        model.cpu()\n",
    "    del model\n",
    "    del tokenizer\n",
    "    \n",
    "    gc.collect()\n",
    "    \n",
    "    torch.cuda.empty_cache()"
   ]
  },
  {
   "cell_type": "code",
   "execution_count": null,
   "metadata": {},
   "outputs": [],
   "source": [
    "tqdm.pandas()\n",
    "\n",
    "models_dirs = ['unsloth/'+x for x in os.listdir('unsloth')]\n",
    "\n",
    "for model in models_dirs:\n",
    "\n",
    "    print(f'Выполняется инициализация модели {model}...')\n",
    "\n",
    "    model_name = model\n",
    "\n",
    "    model, tokenizer = FastLanguageModel.from_pretrained(\n",
    "        model_name = model,\n",
    "        max_seq_length = 2048,\n",
    "        dtype=None,\n",
    "        load_in_4bit=True\n",
    "    )\n",
    "\n",
    "    FastLanguageModel.for_inference(model)\n",
    "\n",
    "    print(f'Модель {model} инициализирована')\n",
    "\n",
    "    print(f'Выполняется генерация моделью {model}...')\n",
    "\n",
    "    gold_examples[f\"{model_name}_generated_headline\"] = gold_examples['Текст новости'].progress_apply(lambda x: generate_headline(instructions = model_instructions,\n",
    "                                                                                                                             article_text = x))\n",
    "    \n",
    "    print('Выполняется очистка кэша...')\n",
    "\n",
    "    clear_cache(model = model, tokenizer = tokenizer)\n",
    "\n",
    "    print('Очистка кеша завершена...')\n",
    "\n",
    "gold_examples.drop(columns = ['Дата публикации', 'Тэги', 'Инструкции модели'], inplace = True)\n",
    "\n",
    "gold_examples.to_csv(\"{your_dataset_path}\")\n",
    "\n",
    "print('Датасет, содержащий генерацию, успешно сохранен')"
   ]
  }
 ],
 "metadata": {
  "kernelspec": {
   "display_name": "project_news_env",
   "language": "python",
   "name": "python3"
  },
  "language_info": {
   "codemirror_mode": {
    "name": "ipython",
    "version": 3
   },
   "file_extension": ".py",
   "mimetype": "text/x-python",
   "name": "python",
   "nbconvert_exporter": "python",
   "pygments_lexer": "ipython3",
   "version": "3.11.11"
  }
 },
 "nbformat": 4,
 "nbformat_minor": 2
}
