{
 "cells": [
  {
   "cell_type": "markdown",
   "metadata": {},
   "source": [
    "Данная тетрадка посвящена Zero-Soht инференсу моделей Gemma2:2b, Gemma2:9b, Mistral-Nemo(12b) с использование библиотеки Unsloth. "
   ]
  },
  {
   "cell_type": "code",
   "execution_count": 1,
   "metadata": {},
   "outputs": [
    {
     "name": "stdout",
     "output_type": "stream",
     "text": [
      "🦥 Unsloth: Will patch your computer to enable 2x faster free finetuning.\n"
     ]
    },
    {
     "name": "stderr",
     "output_type": "stream",
     "text": [
      "/opt/miniconda3/envs/project_news_env/lib/python3.11/site-packages/tqdm/auto.py:21: TqdmWarning: IProgress not found. Please update jupyter and ipywidgets. See https://ipywidgets.readthedocs.io/en/stable/user_install.html\n",
      "  from .autonotebook import tqdm as notebook_tqdm\n"
     ]
    },
    {
     "name": "stdout",
     "output_type": "stream",
     "text": [
      "🦥 Unsloth Zoo will now patch everything to make training faster!\n"
     ]
    }
   ],
   "source": [
    "import gc\n",
    "import re\n",
    "\n",
    "from tqdm import tqdm\n",
    "from unsloth import FastLanguageModel\n",
    "from sklearn.model_selection import train_test_split\n",
    "from sklearn.utils import shuffle\n",
    "\n",
    "import torch\n",
    "import pandas as pd"
   ]
  },
  {
   "cell_type": "code",
   "execution_count": 2,
   "metadata": {},
   "outputs": [
    {
     "name": "stdout",
     "output_type": "stream",
     "text": [
      "Количество рядов в нашем датасете: (5197, 4)\n",
      "Количество примеров в датасете, содержащего gold-examples(338, 4)\n"
     ]
    }
   ],
   "source": [
    "dataset_path = \"{your_dataset_path}\"\n",
    "df = pd.read_csv(dataset_path)\n",
    "df.drop(columns = ['Unnamed: 0'], inplace = True)\n",
    "\n",
    "print(f\"Количество рядов в нашем датасете: {df.shape}\")\n",
    "\n",
    "def remove_garbage(txt):\n",
    "    new_line_pattern = r\"\\n\\d*\"\n",
    "    brake_pattern = r\"<br>\"\n",
    "\n",
    "    txt = re.sub(new_line_pattern, '', txt)\n",
    "    txt = re.sub(brake_pattern, '', txt)\n",
    "\n",
    "    return txt\n",
    "\n",
    "needed_cols = list(df.columns)\n",
    "\n",
    "for col in needed_cols:\n",
    "    df[col] = df[col].apply(remove_garbage)\n",
    "\n",
    "\n",
    "train_df, test_df =  train_test_split(df, test_size = 0.065, random_state = 1337)\n",
    "\n",
    "train_df = train_df.reset_index().drop(columns = ['index'])\n",
    "test_df = test_df.reset_index().drop(columns = ['index'])\n",
    "\n",
    "\n",
    "\n",
    "print(f\"Количество примеров в датасете, содержащего gold-examples{test_df.shape}\")\n",
    "\n",
    "train_df.to_csv('{your_dataset_path}')\n",
    "test_df.to_csv('{your_dataset_path}')"
   ]
  },
  {
   "cell_type": "code",
   "execution_count": 3,
   "metadata": {},
   "outputs": [],
   "source": [
    "model_instructions = \"\"\"Ты - профессиональный журналист с многолетним опытом.\n",
    "Твоя задача - сгенерировать заголовок новостной статьи, который в максимальной степени отражал бы содержание новости.\n",
    "Не поясняй свой ответ. Твой финальный ответ должен включать в себя только заголовок и ничего более.\n",
    "\"\"\"\n",
    "\n",
    "test_df['prompt'] = model_instructions"
   ]
  },
  {
   "cell_type": "code",
   "execution_count": 4,
   "metadata": {},
   "outputs": [],
   "source": [
    "alpaca_prompt = \"\"\"Ниже представлены следующие аспекты:\n",
    "1. Пользовательский запрос.\n",
    "2. Исходные данные - контекст\n",
    "3. Ответ - твой ответ.\n",
    "Сгенерируй ответ, который в полной мере выполняет пользовательский запрос.  \n",
    "### Пользовательский запрос:\n",
    "{}\n",
    "\n",
    "### Исходные данные:\n",
    "{}\n",
    "\n",
    "### Ответ:\n",
    "{}\"\"\""
   ]
  },
  {
   "cell_type": "code",
   "execution_count": 5,
   "metadata": {},
   "outputs": [],
   "source": [
    "def model_headline_generation(model, tokenizer, input:str)->str:\n",
    "    '''Функция для генерации новостных заголовок при помощи модели Gemma2:2b-4bit\n",
    "    \n",
    "    Args:\n",
    "        input (str): Входные данные - в нашем случае - текст новостной статьи\n",
    "    \n",
    "    Returns:\n",
    "        str: Сгенерированный новостной заголовок\n",
    "    '''\n",
    "    model_instructions = \"\"\"Ты - профессиональный журналист с многолетним опытом.\n",
    "    Твоя задача - сгенерировать заголовок новостной статьи, который в максимальной степени отражал бы содержание новости.\n",
    "    Не поясняй свой ответ. Твой финальный ответ должен включать в себя только заголовок и ничего более.\n",
    "    \"\"\"\n",
    "\n",
    "    inputs = tokenizer(\n",
    "        [\n",
    "            alpaca_prompt.format(\n",
    "                model_instructions,\n",
    "                input,\n",
    "                '',\n",
    "            )\n",
    "        ],return_tensors = 'pt').to('cuda')\n",
    "    \n",
    "    outputs = model.generate(**inputs, max_new_tokens = 200, use_cache = True)\n",
    "\n",
    "    result = tokenizer.batch_decode(outputs)\n",
    "\n",
    "    answer_pattern = r\"Ответ:[^<eos>]*\"\n",
    "\n",
    "    return re.findall(answer_pattern, result[0])[0]"
   ]
  },
  {
   "cell_type": "code",
   "execution_count": 6,
   "metadata": {},
   "outputs": [],
   "source": [
    "def clear_cache(model, tokenizer) -> None:\n",
    "    '''Функция удаляет модель из GPU'''\n",
    "    with torch.no_grad():\n",
    "        model.cpu()\n",
    "    del model\n",
    "    del tokenizer\n",
    "    \n",
    "    gc.collect()\n",
    "    \n",
    "    torch.cuda.empty_cache()"
   ]
  },
  {
   "cell_type": "markdown",
   "metadata": {},
   "source": [
    "Генерация новостных заголовков методом Zero-Shot"
   ]
  },
  {
   "cell_type": "code",
   "execution_count": null,
   "metadata": {},
   "outputs": [],
   "source": [
    "tqdm.pandas()\n",
    "\n",
    "models_list = ['unsloth/gemma-2-2b',\n",
    "               'unsloth/gemma-2-9b-bnb-4bit',\n",
    "               'unsloth/Mistral-Nemo-Instruct-2407-bnb-4bit']\n",
    "\n",
    "for model in models_list:\n",
    "\n",
    "    model_name = model\n",
    "\n",
    "    print(f\"Происходит инициализация модели {model}\")\n",
    "\n",
    "    model, tokenizer = FastLanguageModel.from_pretrained(\n",
    "    model_name = model,\n",
    "    max_seq_length = 1048,\n",
    "    dtype = None,\n",
    "    load_in_4bit = True\n",
    "    )\n",
    "    \n",
    "    FastLanguageModel.for_inference(model)\n",
    "\n",
    "    print(\"Выполняется генерация...\")\n",
    "\n",
    "    test_df[f'{model_name}_headline'] = test_df['Текст новости'].progress_apply(lambda x: model_headline_generation(model = model,\n",
    "                                                                                                               tokenizer = tokenizer,\n",
    "                                                                                                               input = x))\n",
    "    clear_cache(model = model,\n",
    "                tokenizer = tokenizer)\n",
    "\n",
    "test_df.to_csv('{your_dataset_path}')\n"
   ]
  }
 ],
 "metadata": {
  "kernelspec": {
   "display_name": "project_news_env",
   "language": "python",
   "name": "python3"
  },
  "language_info": {
   "codemirror_mode": {
    "name": "ipython",
    "version": 3
   },
   "file_extension": ".py",
   "mimetype": "text/x-python",
   "name": "python",
   "nbconvert_exporter": "python",
   "pygments_lexer": "ipython3",
   "version": "3.11.11"
  }
 },
 "nbformat": 4,
 "nbformat_minor": 2
}
