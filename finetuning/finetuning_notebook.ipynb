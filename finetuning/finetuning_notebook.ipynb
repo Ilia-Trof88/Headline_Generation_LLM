{
 "cells": [
  {
   "cell_type": "code",
   "execution_count": 1,
   "metadata": {},
   "outputs": [
    {
     "name": "stdout",
     "output_type": "stream",
     "text": [
      "🦥 Unsloth: Will patch your computer to enable 2x faster free finetuning.\n"
     ]
    },
    {
     "name": "stderr",
     "output_type": "stream",
     "text": [
      "/opt/miniconda3/envs/project_news_env/lib/python3.11/site-packages/tqdm/auto.py:21: TqdmWarning: IProgress not found. Please update jupyter and ipywidgets. See https://ipywidgets.readthedocs.io/en/stable/user_install.html\n",
      "  from .autonotebook import tqdm as notebook_tqdm\n"
     ]
    },
    {
     "name": "stdout",
     "output_type": "stream",
     "text": [
      "🦥 Unsloth Zoo will now patch everything to make training faster!\n"
     ]
    }
   ],
   "source": [
    "import gc\n",
    "\n",
    "import torch\n",
    "import pandas as pd\n",
    "\n",
    "from unsloth import FastLanguageModel\n",
    "from datasets import Dataset\n",
    "from sklearn.model_selection import train_test_split\n",
    "from trl import SFTTrainer\n",
    "from transformers import TrainingArguments, EarlyStoppingCallback\n",
    "from unsloth import is_bfloat16_supported"
   ]
  },
  {
   "cell_type": "code",
   "execution_count": 2,
   "metadata": {},
   "outputs": [
    {
     "name": "stdout",
     "output_type": "stream",
     "text": [
      "Количество рядов в тренировочном датасете: 4373\n",
      "      Количество рядов в тестовом датасете: 486\n"
     ]
    }
   ],
   "source": [
    "df_path = '{your_dataset_path}'\n",
    "\n",
    "main_df = pd.read_csv(df_path)\n",
    "\n",
    "main_df.drop(columns = ['Unnamed: 0', 'Тэги', 'Дата публикации'], inplace = True)\n",
    "#Удаляем колонки, которые не будут задействованы в обучении\n",
    "\n",
    "model_instructions = \"\"\"\n",
    "    Ты - профессиональный журналист с многолетним опытом.\n",
    "    Твоя задача - сгенерировать заголовок новостной статьи, который в максимальной степени отражал бы содержание новости.\n",
    "    Не поясняй свой ответ. Твой финальный ответ должен включать в себя только заголовок и ничего более.\n",
    "    \"\"\"\n",
    "main_df['Инструкции модели'] = model_instructions\n",
    "\n",
    "train_dataset, test_dataset = train_test_split(main_df, test_size = 0.1, random_state = 1337)\n",
    "\n",
    "train_dataset = train_dataset.reset_index().drop(columns = ['index'])\n",
    "test_dataset = test_dataset.reset_index().drop(columns = ['index'])\n",
    "\n",
    "\n",
    "print(f'Количество рядов в тренировочном датасете: {len(train_dataset)}\\n\\\n",
    "      Количество рядов в тестовом датасете: {len(test_dataset)}')"
   ]
  },
  {
   "cell_type": "code",
   "execution_count": 3,
   "metadata": {},
   "outputs": [],
   "source": [
    "max_seq_length = 1048\n",
    "dtype = None\n",
    "load_in_4bit = True"
   ]
  },
  {
   "cell_type": "code",
   "execution_count": null,
   "metadata": {},
   "outputs": [],
   "source": [
    "model, tokenizer = FastLanguageModel.from_pretrained(\n",
    "    model_name = 'unsloth/gemma-2-2b',\n",
    "    max_seq_length = max_seq_length,\n",
    "    dtype = dtype,\n",
    "    load_in_4bit = load_in_4bit\n",
    ")"
   ]
  },
  {
   "cell_type": "code",
   "execution_count": 5,
   "metadata": {},
   "outputs": [
    {
     "name": "stderr",
     "output_type": "stream",
     "text": [
      "Unsloth 2024.12.4 patched 26 layers with 26 QKV layers, 26 O layers and 26 MLP layers.\n"
     ]
    }
   ],
   "source": [
    "model = FastLanguageModel.get_peft_model(\n",
    "    model,\n",
    "    r = 16, #Стандартное значение 16, однако поскольку модель маленькая\n",
    "    lora_alpha = 16, #Scaling factor для обновления LoRa - обычно равен R для балансированного обновления весов.\n",
    "    lora_dropout = 0, \n",
    "    bias = 'none',\n",
    "    use_gradient_checkpointing = 'unsloth',\n",
    "    random_state = 1337,\n",
    "    use_rslora = False,\n",
    "    loftq_config = None,\n",
    ")"
   ]
  },
  {
   "cell_type": "code",
   "execution_count": 3,
   "metadata": {},
   "outputs": [],
   "source": [
    "alpaca_prompt = \"\"\"Ниже представлены следующие аспекты:\n",
    "1. Пользовательский запрос.\n",
    "2. Исходные данные - контекст\n",
    "3. Ответ - твой ответ.\n",
    "Сгенерируй ответ, который в полной мере выполняет пользовательский запрос.  \n",
    "### Пользовательский запрос:\n",
    "{}\n",
    "\n",
    "### Исходные данные:\n",
    "{}\n",
    "\n",
    "### Ответ:\n",
    "{}\"\"\""
   ]
  },
  {
   "cell_type": "code",
   "execution_count": null,
   "metadata": {},
   "outputs": [],
   "source": [
    "EOS_TOKEN = tokenizer.eos_token #EOS или токен окончания последовательности, добавляется, чтобы избежать бесконечных генераций."
   ]
  },
  {
   "cell_type": "code",
   "execution_count": 8,
   "metadata": {},
   "outputs": [],
   "source": [
    "def format_prompt(examples):\n",
    "    instructions = examples['Инструкции модели']\n",
    "    input = examples['Текст новости']\n",
    "    output = examples['Заголовок']\n",
    "\n",
    "    texts = []\n",
    "\n",
    "    for instructions, input, output in zip(instructions, input, output):\n",
    "        text = alpaca_prompt.format(instructions, input, output) + EOS_TOKEN\n",
    "        texts.append(text)\n",
    "    return {'text': texts}"
   ]
  },
  {
   "cell_type": "code",
   "execution_count": 9,
   "metadata": {},
   "outputs": [
    {
     "name": "stderr",
     "output_type": "stream",
     "text": [
      "Map:   0%|          | 0/4373 [00:00<?, ? examples/s]"
     ]
    },
    {
     "name": "stderr",
     "output_type": "stream",
     "text": [
      "Map: 100%|██████████| 4373/4373 [00:00<00:00, 34735.49 examples/s]\n",
      "Map: 100%|██████████| 486/486 [00:00<00:00, 42752.34 examples/s]\n"
     ]
    }
   ],
   "source": [
    "train_dataset = Dataset.from_pandas(train_dataset)\n",
    "test_dataset = Dataset.from_pandas(test_dataset)\n",
    "\n",
    "train_dataset = train_dataset.map(format_prompt, batched = True)\n",
    "test_dataset = test_dataset.map(format_prompt, batched = True)"
   ]
  },
  {
   "cell_type": "markdown",
   "metadata": {},
   "source": [
    "Model FineTuning"
   ]
  },
  {
   "cell_type": "code",
   "execution_count": 10,
   "metadata": {},
   "outputs": [
    {
     "name": "stderr",
     "output_type": "stream",
     "text": [
      "Map (num_proc=2): 100%|██████████| 4373/4373 [00:03<00:00, 1318.71 examples/s]\n",
      "Map (num_proc=2): 100%|██████████| 486/486 [00:01<00:00, 311.13 examples/s]\n"
     ]
    }
   ],
   "source": [
    "trainer = SFTTrainer(\n",
    "    model = model,\n",
    "    tokenizer = tokenizer,\n",
    "    train_dataset = train_dataset,\n",
    "    eval_dataset = test_dataset,\n",
    "    dataset_text_field = 'text',\n",
    "    callbacks = [EarlyStoppingCallback(early_stopping_patience=5)], #Добавляем ES == 5 эпохам.\n",
    "    max_seq_length = max_seq_length,\n",
    "    dataset_num_proc = 2,\n",
    "    packing = False,\n",
    "\n",
    "\n",
    "    args = TrainingArguments(\n",
    "        per_device_train_batch_size = 2,\n",
    "        gradient_accumulation_steps = 4,\n",
    "        warmup_steps = 5,\n",
    "        max_steps = 4000,\n",
    "        eval_strategy = 'steps',\n",
    "        metric_for_best_model = 'eval_loss',\n",
    "        load_best_model_at_end = True,\n",
    "        greater_is_better = False,\n",
    "        learning_rate = 2e-4,\n",
    "        fp16 = not is_bfloat16_supported(),\n",
    "        bf16 = is_bfloat16_supported(),\n",
    "        logging_steps = 100,\n",
    "        optim = \"adamw_8bit\",\n",
    "        weight_decay = 0.01,\n",
    "        lr_scheduler_type = \"linear\",\n",
    "        seed = 1337,\n",
    "        output_dir = \"outputs\",\n",
    "        report_to = \"none\", # Use this for WandB etc\n",
    "    )\n",
    ")"
   ]
  },
  {
   "cell_type": "code",
   "execution_count": 11,
   "metadata": {},
   "outputs": [],
   "source": [
    "save_path = '{insert_your_gemma2_2b_save_path}'"
   ]
  },
  {
   "cell_type": "code",
   "execution_count": 12,
   "metadata": {},
   "outputs": [
    {
     "name": "stderr",
     "output_type": "stream",
     "text": [
      "==((====))==  Unsloth - 2x faster free finetuning | Num GPUs = 1\n",
      "   \\\\   /|    Num examples = 4,373 | Num Epochs = 8\n",
      "O^O/ \\_/ \\    Batch size per device = 2 | Gradient Accumulation steps = 4\n",
      "\\        /    Total batch size = 8 | Total steps = 4,000\n",
      " \"-____-\"     Number of trainable parameters = 20,766,720\n"
     ]
    },
    {
     "data": {
      "text/html": [
       "\n",
       "    <div>\n",
       "      \n",
       "      <progress value='1000' max='4000' style='width:300px; height:20px; vertical-align: middle;'></progress>\n",
       "      [1000/4000 44:48 < 2:14:41, 0.37 it/s, Epoch 1/8]\n",
       "    </div>\n",
       "    <table border=\"1\" class=\"dataframe\">\n",
       "  <thead>\n",
       " <tr style=\"text-align: left;\">\n",
       "      <th>Step</th>\n",
       "      <th>Training Loss</th>\n",
       "      <th>Validation Loss</th>\n",
       "    </tr>\n",
       "  </thead>\n",
       "  <tbody>\n",
       "    <tr>\n",
       "      <td>100</td>\n",
       "      <td>1.450200</td>\n",
       "      <td>2.142085</td>\n",
       "    </tr>\n",
       "    <tr>\n",
       "      <td>200</td>\n",
       "      <td>1.372700</td>\n",
       "      <td>2.085290</td>\n",
       "    </tr>\n",
       "    <tr>\n",
       "      <td>300</td>\n",
       "      <td>1.368100</td>\n",
       "      <td>2.041223</td>\n",
       "    </tr>\n",
       "    <tr>\n",
       "      <td>400</td>\n",
       "      <td>1.320200</td>\n",
       "      <td>2.026646</td>\n",
       "    </tr>\n",
       "    <tr>\n",
       "      <td>500</td>\n",
       "      <td>1.310900</td>\n",
       "      <td>2.009410</td>\n",
       "    </tr>\n",
       "    <tr>\n",
       "      <td>600</td>\n",
       "      <td>1.265800</td>\n",
       "      <td>2.035812</td>\n",
       "    </tr>\n",
       "    <tr>\n",
       "      <td>700</td>\n",
       "      <td>1.203600</td>\n",
       "      <td>2.015994</td>\n",
       "    </tr>\n",
       "    <tr>\n",
       "      <td>800</td>\n",
       "      <td>1.170000</td>\n",
       "      <td>2.031903</td>\n",
       "    </tr>\n",
       "    <tr>\n",
       "      <td>900</td>\n",
       "      <td>1.170300</td>\n",
       "      <td>2.026358</td>\n",
       "    </tr>\n",
       "    <tr>\n",
       "      <td>1000</td>\n",
       "      <td>1.202000</td>\n",
       "      <td>2.017031</td>\n",
       "    </tr>\n",
       "  </tbody>\n",
       "</table><p>"
      ],
      "text/plain": [
       "<IPython.core.display.HTML object>"
      ]
     },
     "metadata": {},
     "output_type": "display_data"
    },
    {
     "data": {
      "text/plain": [
       "('gemma2_2b_finetuned/tokenizer_config.json',\n",
       " 'gemma2_2b_finetuned/special_tokens_map.json',\n",
       " 'gemma2_2b_finetuned/tokenizer.model',\n",
       " 'gemma2_2b_finetuned/added_tokens.json',\n",
       " 'gemma2_2b_finetuned/tokenizer.json')"
      ]
     },
     "execution_count": 12,
     "metadata": {},
     "output_type": "execute_result"
    }
   ],
   "source": [
    "trainer_stats = trainer.train()\n",
    "\n",
    "model.save_pretrained(save_path)\n",
    "tokenizer.save_pretrained(save_path)"
   ]
  },
  {
   "cell_type": "markdown",
   "metadata": {},
   "source": [
    "Инференс модели после дообучения"
   ]
  },
  {
   "cell_type": "code",
   "execution_count": 13,
   "metadata": {},
   "outputs": [
    {
     "data": {
      "text/plain": [
       "PeftModelForCausalLM(\n",
       "  (base_model): LoraModel(\n",
       "    (model): Gemma2ForCausalLM(\n",
       "      (model): Gemma2Model(\n",
       "        (embed_tokens): Embedding(256000, 2304, padding_idx=0)\n",
       "        (layers): ModuleList(\n",
       "          (0-25): 26 x Gemma2DecoderLayer(\n",
       "            (self_attn): Gemma2Attention(\n",
       "              (q_proj): lora.Linear4bit(\n",
       "                (base_layer): Linear4bit(in_features=2304, out_features=2048, bias=False)\n",
       "                (lora_dropout): ModuleDict(\n",
       "                  (default): Identity()\n",
       "                )\n",
       "                (lora_A): ModuleDict(\n",
       "                  (default): Linear(in_features=2304, out_features=16, bias=False)\n",
       "                )\n",
       "                (lora_B): ModuleDict(\n",
       "                  (default): Linear(in_features=16, out_features=2048, bias=False)\n",
       "                )\n",
       "                (lora_embedding_A): ParameterDict()\n",
       "                (lora_embedding_B): ParameterDict()\n",
       "                (lora_magnitude_vector): ModuleDict()\n",
       "              )\n",
       "              (k_proj): lora.Linear4bit(\n",
       "                (base_layer): Linear4bit(in_features=2304, out_features=1024, bias=False)\n",
       "                (lora_dropout): ModuleDict(\n",
       "                  (default): Identity()\n",
       "                )\n",
       "                (lora_A): ModuleDict(\n",
       "                  (default): Linear(in_features=2304, out_features=16, bias=False)\n",
       "                )\n",
       "                (lora_B): ModuleDict(\n",
       "                  (default): Linear(in_features=16, out_features=1024, bias=False)\n",
       "                )\n",
       "                (lora_embedding_A): ParameterDict()\n",
       "                (lora_embedding_B): ParameterDict()\n",
       "                (lora_magnitude_vector): ModuleDict()\n",
       "              )\n",
       "              (v_proj): lora.Linear4bit(\n",
       "                (base_layer): Linear4bit(in_features=2304, out_features=1024, bias=False)\n",
       "                (lora_dropout): ModuleDict(\n",
       "                  (default): Identity()\n",
       "                )\n",
       "                (lora_A): ModuleDict(\n",
       "                  (default): Linear(in_features=2304, out_features=16, bias=False)\n",
       "                )\n",
       "                (lora_B): ModuleDict(\n",
       "                  (default): Linear(in_features=16, out_features=1024, bias=False)\n",
       "                )\n",
       "                (lora_embedding_A): ParameterDict()\n",
       "                (lora_embedding_B): ParameterDict()\n",
       "                (lora_magnitude_vector): ModuleDict()\n",
       "              )\n",
       "              (o_proj): lora.Linear4bit(\n",
       "                (base_layer): Linear4bit(in_features=2048, out_features=2304, bias=False)\n",
       "                (lora_dropout): ModuleDict(\n",
       "                  (default): Identity()\n",
       "                )\n",
       "                (lora_A): ModuleDict(\n",
       "                  (default): Linear(in_features=2048, out_features=16, bias=False)\n",
       "                )\n",
       "                (lora_B): ModuleDict(\n",
       "                  (default): Linear(in_features=16, out_features=2304, bias=False)\n",
       "                )\n",
       "                (lora_embedding_A): ParameterDict()\n",
       "                (lora_embedding_B): ParameterDict()\n",
       "                (lora_magnitude_vector): ModuleDict()\n",
       "              )\n",
       "              (rotary_emb): GemmaFixedRotaryEmbedding()\n",
       "            )\n",
       "            (mlp): Gemma2MLP(\n",
       "              (gate_proj): lora.Linear4bit(\n",
       "                (base_layer): Linear4bit(in_features=2304, out_features=9216, bias=False)\n",
       "                (lora_dropout): ModuleDict(\n",
       "                  (default): Identity()\n",
       "                )\n",
       "                (lora_A): ModuleDict(\n",
       "                  (default): Linear(in_features=2304, out_features=16, bias=False)\n",
       "                )\n",
       "                (lora_B): ModuleDict(\n",
       "                  (default): Linear(in_features=16, out_features=9216, bias=False)\n",
       "                )\n",
       "                (lora_embedding_A): ParameterDict()\n",
       "                (lora_embedding_B): ParameterDict()\n",
       "                (lora_magnitude_vector): ModuleDict()\n",
       "              )\n",
       "              (up_proj): lora.Linear4bit(\n",
       "                (base_layer): Linear4bit(in_features=2304, out_features=9216, bias=False)\n",
       "                (lora_dropout): ModuleDict(\n",
       "                  (default): Identity()\n",
       "                )\n",
       "                (lora_A): ModuleDict(\n",
       "                  (default): Linear(in_features=2304, out_features=16, bias=False)\n",
       "                )\n",
       "                (lora_B): ModuleDict(\n",
       "                  (default): Linear(in_features=16, out_features=9216, bias=False)\n",
       "                )\n",
       "                (lora_embedding_A): ParameterDict()\n",
       "                (lora_embedding_B): ParameterDict()\n",
       "                (lora_magnitude_vector): ModuleDict()\n",
       "              )\n",
       "              (down_proj): lora.Linear4bit(\n",
       "                (base_layer): Linear4bit(in_features=9216, out_features=2304, bias=False)\n",
       "                (lora_dropout): ModuleDict(\n",
       "                  (default): Identity()\n",
       "                )\n",
       "                (lora_A): ModuleDict(\n",
       "                  (default): Linear(in_features=9216, out_features=16, bias=False)\n",
       "                )\n",
       "                (lora_B): ModuleDict(\n",
       "                  (default): Linear(in_features=16, out_features=2304, bias=False)\n",
       "                )\n",
       "                (lora_embedding_A): ParameterDict()\n",
       "                (lora_embedding_B): ParameterDict()\n",
       "                (lora_magnitude_vector): ModuleDict()\n",
       "              )\n",
       "              (act_fn): PytorchGELUTanh()\n",
       "            )\n",
       "            (input_layernorm): Gemma2RMSNorm((2304,), eps=1e-06)\n",
       "            (post_attention_layernorm): Gemma2RMSNorm((2304,), eps=1e-06)\n",
       "            (pre_feedforward_layernorm): Gemma2RMSNorm((2304,), eps=1e-06)\n",
       "            (post_feedforward_layernorm): Gemma2RMSNorm((2304,), eps=1e-06)\n",
       "          )\n",
       "        )\n",
       "        (norm): Gemma2RMSNorm((2304,), eps=1e-06)\n",
       "      )\n",
       "      (lm_head): Linear(in_features=2304, out_features=256000, bias=False)\n",
       "    )\n",
       "  )\n",
       ")"
      ]
     },
     "execution_count": 13,
     "metadata": {},
     "output_type": "execute_result"
    }
   ],
   "source": [
    "FastLanguageModel.for_inference(model)"
   ]
  },
  {
   "cell_type": "code",
   "execution_count": 19,
   "metadata": {},
   "outputs": [],
   "source": [
    "inputs = tokenizer(\n",
    "    [\n",
    "        alpaca_prompt.format(train_dataset['Инструкции модели'][0],\n",
    "                             test_dataset['Текст новости'][3],\n",
    "                             \"\") #Response left blank for generation\n",
    "    ], return_tensors = 'pt').to('cuda')\n",
    "\n",
    "outputs = model.generate(**inputs, max_new_tokens = 100, use_cache = True, pad_token_id = tokenizer.eos_token_id)\n",
    "result = tokenizer.batch_decode(outputs)"
   ]
  },
  {
   "cell_type": "code",
   "execution_count": 26,
   "metadata": {},
   "outputs": [
    {
     "name": "stdout",
     "output_type": "stream",
     "text": [
      "Заголовок, сгенерированный моделью: \n",
      "Томскстат назвал продукты, которые подорожали в июне, а также услуги<eos>\n",
      "Образцовый заголовок:\n",
      "Как изменились цены на продукты и услуги в Томске за месяц: данные статистики\n"
     ]
    }
   ],
   "source": [
    "print(f\"Заголовок, сгенерированный моделью: {result[0].split('Ответ:', 1)[1]}\\nОбразцовый заголовок:\\n{test_dataset['Заголовок'][3]}\")"
   ]
  },
  {
   "cell_type": "markdown",
   "metadata": {},
   "source": [
    "Модель сгенерировала вполне приемлимый заголовок"
   ]
  },
  {
   "cell_type": "markdown",
   "metadata": {},
   "source": [
    "Опишем функцию для автоматизации дообучения"
   ]
  },
  {
   "cell_type": "code",
   "execution_count": 3,
   "metadata": {},
   "outputs": [],
   "source": [
    "def train_model(model: str, train_set: pd.DataFrame, eval_set: pd.DataFrame) -> None:\n",
    "    '''Функция выполняет дообучение указанной модели из библиотеки Unsloth.\n",
    "    Предполагаемое использование - дообучение больших языковых моделей для генерации новостных заголовков\n",
    "    \n",
    "    Args:\n",
    "        model (str): Название модели, совместимое с библиотекой Unsloth.\n",
    "        train_set (pd.DataFrame): Датафрейм, содержащий в себе следующие колонки:\\\n",
    "            1. Инструкции модели;\n",
    "            2. Текст новости;\n",
    "            3. Заголовок\n",
    "        test_set (pd.DataFrame): Датафрейм структурно идентичный train_set\n",
    "    Returns:\n",
    "        None - Функция не возращает конкретного значения:\\\n",
    "        По завершению дообучения модели, модель и токкенизатор будут записаны в директорию,\\\n",
    "        название которой соответсвует названию выбранной для дообучения модели.\n",
    "    '''\n",
    "    \n",
    "    model_name = model\n",
    "\n",
    "    \n",
    "    print(f'Выполняется инициализация модели {model_name}...')\n",
    "\n",
    "    model, tokenizer = FastLanguageModel.from_pretrained(\n",
    "        model_name = model,\n",
    "        max_seq_length = 1048,\n",
    "        dtype = None,\n",
    "        load_in_4bit = True\n",
    "    )\n",
    "    \n",
    "    def clear_cache(model, tokenizer):\n",
    "        '''Функция удаляет модель из GPU'''\n",
    "        with torch.no_grad():\n",
    "            model.cpu()\n",
    "        del model\n",
    "        del tokenizer\n",
    "    \n",
    "        gc.collect()\n",
    "    \n",
    "        torch.cuda.empty_cache()\n",
    "    \n",
    "\n",
    "    EOS_TOKEN = tokenizer.eos_token\n",
    "\n",
    "\n",
    "    alpaca_prompt = \"\"\"Ниже представлены следующие аспекты:\n",
    "    1. Пользовательский запрос.\n",
    "    2. Исходные данные - контекст\n",
    "    3. Ответ - твой ответ.\n",
    "    Сгенерируй ответ, который в полной мере выполняет пользовательский запрос.  \n",
    "    ### Пользовательский запрос:\n",
    "    {}\n",
    "\n",
    "    ### Исходные данные:\n",
    "    {}\n",
    "\n",
    "    ### Ответ:\n",
    "    {}\"\"\"\n",
    "\n",
    "    def format_prompt(examples):\n",
    "        '''Функция форматирует alpaca_prompt_template в соответствии с пользовательский задачей.\n",
    "        \n",
    "        Args:\n",
    "            examples (pandas.dataframe): Датафрейм, содержащий колонки:\n",
    "                                        1. Инструкции модели.\n",
    "                                        2. Текст новости.\n",
    "                                        3. Заголовок\n",
    "        \n",
    "        Returns:\n",
    "            dict - Словарь: ключ - строка 'text', значение - отформатированный prompt_template\n",
    "        '''\n",
    "        instructions = examples['Инструкции модели']\n",
    "        input = examples['Текст новости']\n",
    "        output = examples['Заголовок']\n",
    "\n",
    "        texts = []\n",
    "\n",
    "        for instructions, input, output in zip(instructions, input, output):\n",
    "            text = alpaca_prompt.format(instructions, input, output) + EOS_TOKEN\n",
    "            texts.append(text)\n",
    "        \n",
    "        return {'text': texts}\n",
    "    \n",
    "    \n",
    "    train_dataset = Dataset.from_pandas(train_set)\n",
    "    test_dataset = Dataset.from_pandas(eval_set)\n",
    "\n",
    "    train_dataset = train_dataset.map(format_prompt, batched = True)\n",
    "    test_dataset = test_dataset.map(format_prompt, batched = True)\n",
    "\n",
    "    model = FastLanguageModel.get_peft_model(\n",
    "    model,\n",
    "    r = 16,\n",
    "    lora_alpha = 16,\n",
    "    lora_dropout = 0, \n",
    "    bias = 'none',\n",
    "    use_gradient_checkpointing = 'unsloth',\n",
    "    random_state = 1337,\n",
    "    use_rslora = False,\n",
    "    loftq_config = None,\n",
    ")\n",
    "    trainer = SFTTrainer(\n",
    "    model = model,\n",
    "    tokenizer = tokenizer,\n",
    "    train_dataset = train_dataset,\n",
    "    eval_dataset = test_dataset,\n",
    "    dataset_text_field = 'text',\n",
    "    callbacks = [EarlyStoppingCallback(early_stopping_patience=5)], #Добавляем ES == 5 эпохам.\n",
    "    max_seq_length = 1048,\n",
    "    dataset_num_proc = 2,\n",
    "    packing = False,\n",
    "    \n",
    "    args = TrainingArguments(\n",
    "        per_device_train_batch_size = 2,\n",
    "        gradient_accumulation_steps = 4,\n",
    "        warmup_steps = 5,\n",
    "        max_steps = 5000,\n",
    "        eval_strategy = 'steps',\n",
    "        metric_for_best_model = 'eval_loss',\n",
    "        load_best_model_at_end = True,\n",
    "        greater_is_better = False,\n",
    "        learning_rate = 2e-4,\n",
    "        fp16 = not is_bfloat16_supported(),\n",
    "        bf16 = is_bfloat16_supported(),\n",
    "        logging_steps = 100,\n",
    "        optim = \"adamw_8bit\",\n",
    "        weight_decay = 0.01,\n",
    "        lr_scheduler_type = \"linear\",\n",
    "        seed = 1337,\n",
    "        output_dir = \"outputs\",\n",
    "        report_to = \"none\", # Use this for WandB etc\n",
    "    )\n",
    ")\n",
    "    save_path = model_name\n",
    "\n",
    "    print(f'Начинается процесс дообучение модели {model_name}...')\n",
    "\n",
    "    trainer.train()\n",
    "\n",
    "    model.save_pretrained(save_path)\n",
    "    tokenizer.save_pretrained(save_path)\n",
    "\n",
    "    clear_cache(model = model, tokenizer = tokenizer)"
   ]
  },
  {
   "cell_type": "markdown",
   "metadata": {},
   "source": [
    "Опишем цикл for для автоматизации дообучения."
   ]
  },
  {
   "cell_type": "code",
   "execution_count": null,
   "metadata": {},
   "outputs": [],
   "source": [
    "selected_models = ['unsloth/Mistral-Nemo-Instruct-2407-bnb-4bit',\n",
    "                   'unsloth/gemma-2-9b-bnb-4bit']\n",
    "\n",
    "for model in selected_models:\n",
    "    \n",
    "    train_model(train_set = train_dataset,\n",
    "                eval_set = test_dataset,\n",
    "                model = model)\n",
    "    \n",
    "    print(f\"Дообучение модели {model} завершено.\")\n"
   ]
  }
 ],
 "metadata": {
  "kernelspec": {
   "display_name": "project_news_env",
   "language": "python",
   "name": "python3"
  },
  "language_info": {
   "codemirror_mode": {
    "name": "ipython",
    "version": 3
   },
   "file_extension": ".py",
   "mimetype": "text/x-python",
   "name": "python",
   "nbconvert_exporter": "python",
   "pygments_lexer": "ipython3",
   "version": "3.11.11"
  }
 },
 "nbformat": 4,
 "nbformat_minor": 2
}
