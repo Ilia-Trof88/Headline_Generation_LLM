{
 "cells": [
  {
   "cell_type": "code",
   "execution_count": 1,
   "metadata": {},
   "outputs": [],
   "source": [
    "import requests\n",
    "from bs4 import BeautifulSoup\n",
    "import re"
   ]
  },
  {
   "cell_type": "markdown",
   "metadata": {},
   "source": [
    "Возьмем пробную категорию: Экономика"
   ]
  },
  {
   "cell_type": "markdown",
   "metadata": {},
   "source": [
    "I. Функция, вычленяющая 'Окончание ссылки для итерации постоянной итерации'"
   ]
  },
  {
   "cell_type": "code",
   "execution_count": 2,
   "metadata": {},
   "outputs": [],
   "source": [
    "def extract_link_pattern(inital_url):\n",
    "    '''Функция возвращает ссылку, на следующую страницу (next) содержащую новости'''\n",
    "    \n",
    "    response = requests.get(inital_url).text\n",
    "\n",
    "    html_structure = BeautifulSoup(response, 'html.parser')\n",
    "\n",
    "    next_button = html_structure.findAll('a', class_= 'btn lenta_pager_next') #Содержит HTML-тэг, в формате строки\n",
    "\n",
    "    pattern = r\"\\?down=\\d+\"\n",
    "\n",
    "    try:\n",
    "        return re.findall(pattern, str(next_button[0]))[0]\n",
    "    except:\n",
    "        return 0"
   ]
  },
  {
   "cell_type": "markdown",
   "metadata": {},
   "source": [
    "II. Цикл, формирующий список, состоящий из всех страниц новостей по конкретной тематике"
   ]
  },
  {
   "cell_type": "code",
   "execution_count": null,
   "metadata": {},
   "outputs": [],
   "source": [
    "initial_url = 'https://vtomske.ru/tag/economics' #Начальная ссылка\n",
    "\n",
    "string_to_be_formatted = 'https://vtomske.ru/tag/economics{}'\n",
    "\n",
    "links_list = []\n",
    "\n",
    "links_list.append(initial_url)\n",
    "\n",
    "#while len(links_list) <= 5000:\n",
    "while True:\n",
    "\n",
    "    next_pattern = extract_link_pattern(initial_url) #Переменная содержит в себе паттерн продолжения\n",
    "\n",
    "    print(next_pattern)\n",
    "\n",
    "    if next_pattern == 0:\n",
    "        break #Цикл прекращается, если на странице отсутсвует кнопка 'Раньше' == Новости по тематике закончились.\n",
    "\n",
    "    next_link = string_to_be_formatted.format(next_pattern) #Форматируем строку - ссылку, добавляя в нее продолжение\n",
    "\n",
    "    links_list.append(next_link) #Сохраняем ссылку в список ссылок\n",
    "\n",
    "    initial_url = next_link"
   ]
  },
  {
   "cell_type": "code",
   "execution_count": 190,
   "metadata": {},
   "outputs": [],
   "source": [
    "def form_link_list(initial_url):\n",
    "    '''Функция получает начальную ссылку на новостную тематику с сайта vtomske.ru в след. формате:\n",
    "    https://vtomske.ru/tag/russia\n",
    "    И возвращает список ссылок на все страницы новостей по данной новостной тематике.'''\n",
    "    \n",
    "    #string_to_be_formatted = 'https://vtomske.ru/tag/economics{}'\n",
    "    string_to_be_formatted = f\"{initial_url}{{}}\"\n",
    "\n",
    "    links_list = []\n",
    "\n",
    "    links_list.append(initial_url)\n",
    "\n",
    "#while len(links_list) <= 5000:\n",
    "    while True:\n",
    "        next_pattern = extract_link_pattern(initial_url) #Переменная содержит в себе паттерн продолжения\n",
    "\n",
    "        if next_pattern == 0:\n",
    "            break #Цикл прекращается, если на странице отсутсвует кнопка 'Раньше' == Новости по тематике закончились.\n",
    "\n",
    "        next_link = string_to_be_formatted.format(next_pattern) #Форматируем строку - ссылку, добавляя в нее продолжение\n",
    "\n",
    "        links_list.append(next_link) #Сохраняем ссылку в список ссылок\n",
    "\n",
    "        initial_url = next_link\n",
    "\n",
    "    return links_list"
   ]
  },
  {
   "cell_type": "code",
   "execution_count": 192,
   "metadata": {},
   "outputs": [
    {
     "name": "stdout",
     "output_type": "stream",
     "text": [
      "По тематике Экономика на сайте vtomske.ru представлено 116 страниц новостей\n"
     ]
    }
   ],
   "source": [
    "test_link = 'https://vtomske.ru/tag/economics'\n",
    "\n",
    "test_list = form_link_list(test_link)\n",
    "\n",
    "print(f\"По тематике Экономика на сайте vtomske.ru представлено {len(test_list)} страниц новостей\")"
   ]
  },
  {
   "cell_type": "markdown",
   "metadata": {},
   "source": [
    "III. Попытка получать именно новости с ссылок"
   ]
  },
  {
   "cell_type": "markdown",
   "metadata": {},
   "source": [
    "Опишем функцию для получения ссылок на конкретные новости со страницы"
   ]
  },
  {
   "cell_type": "code",
   "execution_count": 96,
   "metadata": {},
   "outputs": [],
   "source": [
    "def extract_news_links(url):\n",
    "    '''Функция, позволяющая извлечь список URL для всех новостей, находящихся на странице.\n",
    "    Возвращает список (python list), состоящий из завершенных URL'''\n",
    "    response = requests.get(url).text\n",
    "\n",
    "    soup = BeautifulSoup(response, 'html.parser')\n",
    "\n",
    "    raw_list = soup.findAll('a', class_=\"lenta_material\") #Содержит в список, из которого следует извлечь ссылку на новость\n",
    "\n",
    "    extract_pattern = r'href=\"(.*?)\"' #паттерн регулярного выражения, позволяющий выделить окончание новости\n",
    "\n",
    "    urls_final_list = []\n",
    "\n",
    "    for tag in raw_list:\n",
    "        \n",
    "        tag = str(tag)\n",
    "\n",
    "        result = re.findall(extract_pattern, tag)\n",
    "\n",
    "        urls_final_list.append(result[0])\n",
    "\n",
    "    return urls_final_list\n",
    "    #return link_list"
   ]
  },
  {
   "cell_type": "code",
   "execution_count": 160,
   "metadata": {},
   "outputs": [
    {
     "data": {
      "text/plain": [
       "['/news/143235-gazprom-neft-podpisala-s-tomskoi-oblastyu-dorojnuyu-kartu-do-2020g',\n",
       " '/news/143198-tomskii-zavod-poluchit-130-mln-iz-gosfonda-na-sozdanie-importozameshchayushchei-produkcii',\n",
       " '/news/143173-chislo-vydannyh-jitelyam-tomskoi-oblasti-kreditnyh-kart-vyroslo-na-24',\n",
       " '/news/143138-tomskaya-oblast-hochet-vnedrit-mehanizmy-gchp-v-selhozbiznes',\n",
       " '/news/143096-pribyl-ttu-tomska-za-2016g-sostavila-14-tys-rub',\n",
       " '/news/143029-eshche-odna-kompaniya-iz-tomska-popala-pod-sankcii-so-storony-ssha',\n",
       " '/news/142973-tomskaya-oblast-ispolzuet-opyt-niderlandov-dlya-razvitiya-umnogo-goroda',\n",
       " '/news/142765-vlasti-predostavyat-subsidii-tomskomu-biznesu-dlya-vyhoda-na-vneshnii-rynok',\n",
       " '/news/142866-gazprombank-nameren-vkladyvat-dengi-i-profresursy-v-razvitie-tomskoi-oblasti',\n",
       " '/news/142642-tomskie-deputaty-otmenili-lgoty-po-zemelnomu-nalogu-dlya-94-byudjetnyh-organizacii',\n",
       " '/news/142632-deputaty-tomska-vydelili-18-3-mln-na-vykup-kotelnoi-v-loskutovo',\n",
       " '/news/142485-pochti-500-tomichei-ustroilis-na-oplachivaemye-obshchestvennye-raboty-v-2017g',\n",
       " '/news/142414-subsidirovanie-aviareisov-tomsk-strejevoi-nachnetsya-s-1-iyulya',\n",
       " '/news/142276-tomskaya-oblast-snizila-pozicii-v-nacreitinge-investprivlekatelnosti',\n",
       " '/news/142244-kapusta-zonty-i-uzi-bryushnoi-polosti-silnee-vsego-podorojali-v-tomske-v-mae',\n",
       " '/news/142222-rosleshoz-pomojet-tomskoi-oblasti-v-razvitii-lesnogo-hozyaistva',\n",
       " '/news/142049-vrio-tomskogo-gubernatora-jvachkin-zarabotal-bolshe-vseh-sredi-glav-regionov-sfo',\n",
       " '/news/142030-vlasti-popravki-v-fz-pozvolyat-razreshit-kolliziyu-meshayushchuyu-sozdaniyu-severskoi-tor',\n",
       " '/news/141964-cb-v-tomskoi-oblasti-samyi-vysokii-chek-po-kartam-mir-v-sfo',\n",
       " '/news/141931-bolshe-180-tomichei-nashli-varianty-trudoustroistva-na-yarmarke-vakansii',\n",
       " '/news/141822-svyshe-20-tys-tomichei-nachali-polzovatsya-kartami-mir',\n",
       " '/news/141762-duma-tomska-napravila-35-6-mln-na-doosnashchenie-novoi-shkoly-v-zelenyh-gorkah',\n",
       " '/news/141594-za-2016g-tomskie-prompredpriyatiya-proizveli-dlya-rossetei-produkciyu-na-500-mln',\n",
       " '/news/141517-zamministra-klaster-smart-technologies-tomsk-mojet-ne-poluchit-gossredstva-v-2017g',\n",
       " '/news/141479-schetnaya-palata-okolo-1-mlrd-rub-iz-byudjeta-tomska-potracheno-s-narusheniyami-v-2016g',\n",
       " '/news/141465-tomskii-senator-nastorajivaet-chto-molodej-zabyvaet-istoriyu-vov',\n",
       " '/news/141363-motolodka-krym-doma-i-kvartiry-deputaty-severska-otchitalis-o-dohodah-za-2016g',\n",
       " '/news/140869-na-chasti-tomskih-zapravok-vyrosli-ceny-na-benzin',\n",
       " '/news/140853-tret-novogo-rynka-na-nahimova-zaimut-tomskie-proizvoditeli',\n",
       " '/news/140809-za-god-tomsk-zarabotal-na-reklamnyh-konstrukciyah-63-6-mln',\n",
       " '/news/140813-vlasti-planiruyut-za-2-goda-reshit-problemu-padeniya-obemov-stroitelstva-v-tomske',\n",
       " '/news/140806-mer-za-god-dohody-byudjeta-tomska-vyrosli-na-331-mln',\n",
       " '/news/140804-mer-tomsk-zanimaet-4-mesto-v-sfo-po-rashodam-byudjeta-na-dushu-naseleniya',\n",
       " '/news/140759-projitochnyi-minimum-v-tomskoi-oblasti-vyros-na-182-rub',\n",
       " '/news/140675-sibgmu-v-2017g-poluchit-100-mln-ot-federacii-v-ramkah-programmy-razvitiya',\n",
       " '/news/140659-rektor-sibgmu-status-opornogo-vuza-prineset-v-kaznu-tomska-2-mlrd-rub',\n",
       " '/news/140533-jvachkin-tomskaya-oblast-zanimaet-2-mesto-v-sfo-po-urovnyu-zarplat',\n",
       " '/news/140499-federaciya-vydelila-tomskoi-oblasti-sredstva-na-apk-i-programmu-zemskii-doktor',\n",
       " '/news/140524-jvachkin-glavy-poselenii-gotovyat-programmy-razvitiya-tomskih-sel-na-blijaishie-gody',\n",
       " '/news/140397-tomskstat-s-nachala-2017g-realnye-zarplaty-tomichei-snizilis-na-2-6',\n",
       " '/news/140391-vtoroi-restoran-makdonalds-otkroyut-v-tomske-v-2018g',\n",
       " '/news/140214-tomskstat-za-god-v-regione-vyrosli-ceny-na-produkty-k-pashalnomu-stolu',\n",
       " '/news/140207-za-2016-god-v-tomskoi-oblasti-prodano-bolee-10-mln-butylok-vodki',\n",
       " '/news/140199-v-2017g-v-tomskoi-oblasti-planiruyut-vvesti-poryadka-475-tys-kvadratov-jilya',\n",
       " '/news/140152-jvachkin-za-pyatiletku-tomskoi-oblasti-nujno-uvelichit-lesozagotovku-vdvoe']"
      ]
     },
     "execution_count": 160,
     "metadata": {},
     "output_type": "execute_result"
    }
   ],
   "source": [
    "#Пример использования\n",
    "\n",
    "extract_news_links(links_list[50])"
   ]
  },
  {
   "cell_type": "markdown",
   "metadata": {},
   "source": [
    "IV. Отлично, извлекаем заголовок и текст новости из новости"
   ]
  },
  {
   "cell_type": "code",
   "execution_count": 152,
   "metadata": {},
   "outputs": [],
   "source": [
    "def extract_title_and_text(news_url):\n",
    "    '''Функция извлекает следующий аспекты из новостной статьи:\n",
    "    1. Новостной заголовок.\n",
    "    2. Текст новостной статьи.\n",
    "    3. Дату публикации.\n",
    "    4. Тэги.\n",
    "    На вход получает ссылку на новостную статью.'''\n",
    "\n",
    "    beautiful_html_structure = BeautifulSoup(requests.get(news_url).text, 'html.parser')\n",
    "\n",
    "    headline = beautiful_html_structure.findAll('h1')[0]\n",
    "\n",
    "    article_text = beautiful_html_structure.findAll('p')[0]\n",
    "\n",
    "    #Извлечение даты\n",
    "\n",
    "    publication_date = beautiful.findAll('time', class_=\"material-date\")\n",
    "\n",
    "    date_pattern = r'\\d{4}-\\d{2}-\\d{2}'\n",
    "\n",
    "    date = re.findall(date_pattern, str(publication_date))[0]\n",
    "\n",
    "    #/Извлечение даты\n",
    "\n",
    "    #Извлечение тегов\n",
    "\n",
    "    #Выделение тэгов\n",
    "\n",
    "    tags_raw = beautiful.findAll('div', class_=\"material-tags\")\n",
    "\n",
    "    tags_pattern = r\">\\w+<\"\n",
    "\n",
    "    tags = re.findall(tags_pattern, str(tags_raw))\n",
    "\n",
    "    for index in range(0, len(tags)):\n",
    "        tags[index] = tags[index].replace(\">\", \"\").replace(\"<\", \"\")\n",
    "\n",
    "    #/Излвечение тэгов\n",
    "\n",
    "    return headline, article_text, date, tags\n"
   ]
  },
  {
   "cell_type": "code",
   "execution_count": 156,
   "metadata": {},
   "outputs": [
    {
     "data": {
      "text/plain": [
       "(<h1>Томский вуз приобрел нефтяной участок в Хакасии</h1>,\n",
       " <p>Технологический инкубатор томского политеха получил право разработки Алтайского участка с запасами углеводородного сырья в Хакасии. Томичи участвовали в аукционе и приобрели участок на 128-ом шаге, предложив 16 миллионов 700 тысяч рублей. Стартовая стоимость участка – 400 тысяч рублей. <br/>\n",
       " <br/>\n",
       " Это не первый углеводородный участок, приобретенный политехом в этом регионе. Как рассказали в управлении по недропользованию республики, томский инкубатор в мае приступит к геофизическим работам на участке Сохочульский площадью 100 кв. км. Алтайский участок находится в 25 км южнее Абакана. Его площадь составляет 261,25 кв. км. <br/>\n",
       " <br/>\n",
       " Разведка на этом участке проводилась в 60–е годы прошлого века. Результаты были получены неоднозначные. Поскольку использовались старые технологии, достоверно о запасах сказать нельзя. По предварительной оценке, здесь содержится 266 тыс. тонн нефти. Эксперты говорят, что это очень мало.<br/>\n",
       " <br/>\n",
       " Согласно условиям аукциона, победитель обязуется за пять лет приступить к бурению поисковых скважин. В случае открытия месторождения — передать на госэкспертизу отчет по запасам углеводородов и построить не менее трех скважин.<br/>\n",
       " <br/>\n",
       " В Хакаснедрах прошедший аукцион назвали «дешевым». Здесь рассчитывали получить около ста миллионов рублей за участок, но основные претенденты на него - ООО «Стандарт Нафта» и ЗАО «Рудное» - почему–то очень быстро сдались. Это для всех осталось загадкой. <br/></p>,\n",
       " '2008-03-06',\n",
       " ['Томск', 'Экономика'])"
      ]
     },
     "execution_count": 156,
     "metadata": {},
     "output_type": "execute_result"
    }
   ],
   "source": [
    "extract_title_and_text(one_news_url)"
   ]
  }
 ],
 "metadata": {
  "kernelspec": {
   "display_name": "project_news",
   "language": "python",
   "name": "python3"
  },
  "language_info": {
   "codemirror_mode": {
    "name": "ipython",
    "version": 3
   },
   "file_extension": ".py",
   "mimetype": "text/x-python",
   "name": "python",
   "nbconvert_exporter": "python",
   "pygments_lexer": "ipython3",
   "version": "3.11.1"
  }
 },
 "nbformat": 4,
 "nbformat_minor": 2
}
